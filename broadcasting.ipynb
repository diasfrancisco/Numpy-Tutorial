{
 "cells": [
  {
   "cell_type": "code",
   "execution_count": 7,
   "metadata": {},
   "outputs": [],
   "source": [
    "import random\n",
    "import numpy as np"
   ]
  },
  {
   "cell_type": "code",
   "execution_count": 8,
   "metadata": {},
   "outputs": [
    {
     "name": "stdout",
     "output_type": "stream",
     "text": [
      "[[0 0 0 1]\n",
      " [1 1 0 1]\n",
      " [0 0 1 1]\n",
      " [1 1 0 0]]\n"
     ]
    }
   ],
   "source": [
    "# Create a 4x4 array with random binary values\n",
    "arr1 = np.random.randint(0,2,(4,4))\n",
    "print(arr1)"
   ]
  },
  {
   "cell_type": "code",
   "execution_count": 9,
   "metadata": {},
   "outputs": [
    {
     "name": "stdout",
     "output_type": "stream",
     "text": [
      "[[4]\n",
      " [3]\n",
      " [1]\n",
      " [3]]\n"
     ]
    }
   ],
   "source": [
    "# Vector with as many rows as the matrix above with elements between 1 to 5\n",
    "vec1 = np.random.randint(1,6,(4,1))\n",
    "print(vec1)"
   ]
  },
  {
   "cell_type": "code",
   "execution_count": 10,
   "metadata": {},
   "outputs": [
    {
     "name": "stdout",
     "output_type": "stream",
     "text": [
      "[[4 4 4 5]\n",
      " [4 4 3 4]\n",
      " [1 1 2 2]\n",
      " [4 4 3 3]]\n"
     ]
    }
   ],
   "source": [
    "# Adding the vector to every column in the matrix\n",
    "new_arr = arr1 + vec1\n",
    "print(new_arr)"
   ]
  },
  {
   "cell_type": "code",
   "execution_count": 11,
   "metadata": {},
   "outputs": [
    {
     "name": "stdout",
     "output_type": "stream",
     "text": [
      "[[ 3]\n",
      " [10]\n",
      " [ 4]\n",
      " [ 7]]\n"
     ]
    }
   ],
   "source": [
    "# Multiplying every column in the matrix by the vector\n",
    "mult_arr = arr1 @ vec1\n",
    "print(mult_arr)"
   ]
  },
  {
   "cell_type": "code",
   "execution_count": 12,
   "metadata": {},
   "outputs": [
    {
     "name": "stdout",
     "output_type": "stream",
     "text": [
      "[[0 0 0 2]\n",
      " [2 2 0 2]\n",
      " [0 0 2 2]\n",
      " [2 2 0 0]]\n"
     ]
    }
   ],
   "source": [
    "# Multiplying every element in the matrix by a scalar value\n",
    "scal_arr = 2 * arr1\n",
    "print(scal_arr)"
   ]
  }
 ],
 "metadata": {
  "interpreter": {
   "hash": "7599933dd386411a13b5fa391aeaccf37cfeb95d62a7b56750440cf7458620cf"
  },
  "kernelspec": {
   "display_name": "Python 3.8.13 ('np_test')",
   "language": "python",
   "name": "python3"
  },
  "language_info": {
   "codemirror_mode": {
    "name": "ipython",
    "version": 3
   },
   "file_extension": ".py",
   "mimetype": "text/x-python",
   "name": "python",
   "nbconvert_exporter": "python",
   "pygments_lexer": "ipython3",
   "version": "3.8.13"
  },
  "orig_nbformat": 4
 },
 "nbformat": 4,
 "nbformat_minor": 2
}
