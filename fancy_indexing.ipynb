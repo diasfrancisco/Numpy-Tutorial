{
 "cells": [
  {
   "cell_type": "code",
   "execution_count": 1,
   "metadata": {},
   "outputs": [],
   "source": [
    "import random\n",
    "import numpy as np"
   ]
  },
  {
   "cell_type": "code",
   "execution_count": 2,
   "metadata": {},
   "outputs": [
    {
     "name": "stdout",
     "output_type": "stream",
     "text": [
      "[[0.30729136 0.18827562 0.95053186 0.09325814]\n",
      " [0.72125269 0.34207401 0.89317226 0.58441678]\n",
      " [0.14420735 0.40778189 0.4827268  0.89583655]\n",
      " [0.04222031 0.58898506 0.77501188 0.68801155]]\n"
     ]
    }
   ],
   "source": [
    "# Create a random 4x4 array\n",
    "arr1 = np.random.rand(4,4)\n",
    "print(arr1)"
   ]
  },
  {
   "cell_type": "code",
   "execution_count": 3,
   "metadata": {},
   "outputs": [
    {
     "data": {
      "text/plain": [
       "0.40778188783455793"
      ]
     },
     "execution_count": 3,
     "metadata": {},
     "output_type": "execute_result"
    }
   ],
   "source": [
    "# Find element at row 3 column 2\n",
    "arr1[2, 1]"
   ]
  },
  {
   "cell_type": "code",
   "execution_count": 4,
   "metadata": {},
   "outputs": [
    {
     "data": {
      "text/plain": [
       "array([[0.72125269, 0.34207401, 0.89317226, 0.58441678],\n",
       "       [0.04222031, 0.58898506, 0.77501188, 0.68801155]])"
      ]
     },
     "execution_count": 4,
     "metadata": {},
     "output_type": "execute_result"
    }
   ],
   "source": [
    "# Find all even rows\n",
    "arr1[1::2]"
   ]
  },
  {
   "cell_type": "code",
   "execution_count": 5,
   "metadata": {},
   "outputs": [
    {
     "data": {
      "text/plain": [
       "array([[0.72125269, 0.89317226],\n",
       "       [0.04222031, 0.77501188]])"
      ]
     },
     "execution_count": 5,
     "metadata": {},
     "output_type": "execute_result"
    }
   ],
   "source": [
    "# Find all elements that are in the even rows and odd columns\n",
    "arr1[1::2, ::2]"
   ]
  },
  {
   "cell_type": "code",
   "execution_count": 6,
   "metadata": {},
   "outputs": [
    {
     "data": {
      "text/plain": [
       "array([0.30729136, 0.34207401, 0.4827268 , 0.68801155])"
      ]
     },
     "execution_count": 6,
     "metadata": {},
     "output_type": "execute_result"
    }
   ],
   "source": [
    "# Index all elements along the diagonal\n",
    "arr1.diagonal()"
   ]
  },
  {
   "cell_type": "code",
   "execution_count": 7,
   "metadata": {},
   "outputs": [
    {
     "data": {
      "text/plain": [
       "array([0.09325814, 0.89317226, 0.40778189, 0.04222031])"
      ]
     },
     "execution_count": 7,
     "metadata": {},
     "output_type": "execute_result"
    }
   ],
   "source": [
    "# Find the elements of the other diagonal\n",
    "flipped_arr1 = np.fliplr(arr1) # Flip the matrix from left to right\n",
    "flipped_arr1.diagonal()"
   ]
  }
 ],
 "metadata": {
  "interpreter": {
   "hash": "7599933dd386411a13b5fa391aeaccf37cfeb95d62a7b56750440cf7458620cf"
  },
  "kernelspec": {
   "display_name": "Python 3.8.13 ('np_test')",
   "language": "python",
   "name": "python3"
  },
  "language_info": {
   "codemirror_mode": {
    "name": "ipython",
    "version": 3
   },
   "file_extension": ".py",
   "mimetype": "text/x-python",
   "name": "python",
   "nbconvert_exporter": "python",
   "pygments_lexer": "ipython3",
   "version": "3.8.13"
  },
  "orig_nbformat": 4
 },
 "nbformat": 4,
 "nbformat_minor": 2
}
