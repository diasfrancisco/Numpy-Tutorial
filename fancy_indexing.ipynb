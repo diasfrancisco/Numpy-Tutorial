{
 "cells": [
  {
   "cell_type": "code",
   "execution_count": 23,
   "metadata": {},
   "outputs": [],
   "source": [
    "import random\n",
    "import numpy as np"
   ]
  },
  {
   "cell_type": "code",
   "execution_count": 24,
   "metadata": {},
   "outputs": [
    {
     "name": "stdout",
     "output_type": "stream",
     "text": [
      "[[0.31936244 0.18033126 0.52452048 0.45752202]\n",
      " [0.44287157 0.29827004 0.55944234 0.43595184]\n",
      " [0.01578766 0.29305463 0.32592047 0.13943258]\n",
      " [0.90747731 0.35886668 0.30316853 0.56749201]]\n"
     ]
    }
   ],
   "source": [
    "# Create a random 4x4 array\n",
    "arr1 = np.random.rand(4,4)\n",
    "print(arr1)"
   ]
  },
  {
   "cell_type": "code",
   "execution_count": 25,
   "metadata": {},
   "outputs": [
    {
     "data": {
      "text/plain": [
       "0.2930546331399131"
      ]
     },
     "execution_count": 25,
     "metadata": {},
     "output_type": "execute_result"
    }
   ],
   "source": [
    "# Find element at row 3 column 2\n",
    "arr1[2, 1]"
   ]
  },
  {
   "cell_type": "code",
   "execution_count": 26,
   "metadata": {},
   "outputs": [
    {
     "data": {
      "text/plain": [
       "array([[0.44287157, 0.29827004, 0.55944234, 0.43595184],\n",
       "       [0.90747731, 0.35886668, 0.30316853, 0.56749201]])"
      ]
     },
     "execution_count": 26,
     "metadata": {},
     "output_type": "execute_result"
    }
   ],
   "source": [
    "# Find all even rows\n",
    "arr1[1::2]"
   ]
  },
  {
   "cell_type": "code",
   "execution_count": 27,
   "metadata": {},
   "outputs": [
    {
     "data": {
      "text/plain": [
       "array([[0.44287157, 0.55944234],\n",
       "       [0.90747731, 0.30316853]])"
      ]
     },
     "execution_count": 27,
     "metadata": {},
     "output_type": "execute_result"
    }
   ],
   "source": [
    "# Find all elements that are in the even rows and odd columns\n",
    "arr1[1::2, ::2]"
   ]
  },
  {
   "cell_type": "code",
   "execution_count": 38,
   "metadata": {},
   "outputs": [
    {
     "data": {
      "text/plain": [
       "array([0.31936244, 0.29827004, 0.32592047, 0.56749201])"
      ]
     },
     "execution_count": 38,
     "metadata": {},
     "output_type": "execute_result"
    }
   ],
   "source": [
    "# Index all elements along the diagonal\n",
    "arr1.diagonal()"
   ]
  },
  {
   "cell_type": "code",
   "execution_count": 46,
   "metadata": {},
   "outputs": [
    {
     "data": {
      "text/plain": [
       "array([0.45752202, 0.55944234, 0.29305463, 0.90747731])"
      ]
     },
     "execution_count": 46,
     "metadata": {},
     "output_type": "execute_result"
    }
   ],
   "source": [
    "# Find the elements of the other diagonal\n",
    "flipped_arr1 = np.fliplr(arr1) # Flip the matrix from left to right\n",
    "flipped_arr1.diagonal()"
   ]
  }
 ],
 "metadata": {
  "interpreter": {
   "hash": "7599933dd386411a13b5fa391aeaccf37cfeb95d62a7b56750440cf7458620cf"
  },
  "kernelspec": {
   "display_name": "Python 3.8.13 ('np_test')",
   "language": "python",
   "name": "python3"
  },
  "language_info": {
   "codemirror_mode": {
    "name": "ipython",
    "version": 3
   },
   "file_extension": ".py",
   "mimetype": "text/x-python",
   "name": "python",
   "nbconvert_exporter": "python",
   "pygments_lexer": "ipython3",
   "version": "3.8.13"
  },
  "orig_nbformat": 4
 },
 "nbformat": 4,
 "nbformat_minor": 2
}
